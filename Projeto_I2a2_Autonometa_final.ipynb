{
  "nbformat": 4,
  "nbformat_minor": 0,
  "metadata": {
    "colab": {
      "provenance": [],
      "include_colab_link": true
    },
    "kernelspec": {
      "name": "python3",
      "display_name": "Python 3"
    },
    "language_info": {
      "name": "python"
    },
    "widgets": {
      "application/vnd.jupyter.widget-state+json": {
        "875f76f3cf6e45ef96a200f72c2e541a": {
          "model_module": "@jupyter-widgets/controls",
          "model_name": "VBoxModel",
          "model_module_version": "1.5.0",
          "state": {
            "_dom_classes": [],
            "_model_module": "@jupyter-widgets/controls",
            "_model_module_version": "1.5.0",
            "_model_name": "VBoxModel",
            "_view_count": null,
            "_view_module": "@jupyter-widgets/controls",
            "_view_module_version": "1.5.0",
            "_view_name": "VBoxView",
            "box_style": "",
            "children": [
              "IPY_MODEL_5bded59c9ee24f25b805661ecf5f280d",
              "IPY_MODEL_95c876b9d128487a868d1a8d2c8a4338",
              "IPY_MODEL_e4c8e9b9a2c247cd82e79e124037006f"
            ],
            "layout": "IPY_MODEL_29587fc1e4e34f5880fd306a74ebd0a6"
          }
        },
        "5bded59c9ee24f25b805661ecf5f280d": {
          "model_module": "@jupyter-widgets/controls",
          "model_name": "TextModel",
          "model_module_version": "1.5.0",
          "state": {
            "_dom_classes": [],
            "_model_module": "@jupyter-widgets/controls",
            "_model_module_version": "1.5.0",
            "_model_name": "TextModel",
            "_view_count": null,
            "_view_module": "@jupyter-widgets/controls",
            "_view_module_version": "1.5.0",
            "_view_name": "TextView",
            "continuous_update": true,
            "description": "",
            "description_tooltip": null,
            "disabled": false,
            "layout": "IPY_MODEL_ea29ebfce22a4f65b35519977f087ac9",
            "placeholder": "Digite sua pergunta...",
            "style": "IPY_MODEL_d16eede2dadf423ca7ad555b16c988b9",
            "value": ""
          }
        },
        "95c876b9d128487a868d1a8d2c8a4338": {
          "model_module": "@jupyter-widgets/controls",
          "model_name": "ButtonModel",
          "model_module_version": "1.5.0",
          "state": {
            "_dom_classes": [],
            "_model_module": "@jupyter-widgets/controls",
            "_model_module_version": "1.5.0",
            "_model_name": "ButtonModel",
            "_view_count": null,
            "_view_module": "@jupyter-widgets/controls",
            "_view_module_version": "1.5.0",
            "_view_name": "ButtonView",
            "button_style": "",
            "description": "Enviar",
            "disabled": false,
            "icon": "",
            "layout": "IPY_MODEL_202f75c72bee4ef39ca9abe8111e8c82",
            "style": "IPY_MODEL_d4362980031c4d7590c88bbfa766d007",
            "tooltip": ""
          }
        },
        "e4c8e9b9a2c247cd82e79e124037006f": {
          "model_module": "@jupyter-widgets/output",
          "model_name": "OutputModel",
          "model_module_version": "1.0.0",
          "state": {
            "_dom_classes": [],
            "_model_module": "@jupyter-widgets/output",
            "_model_module_version": "1.0.0",
            "_model_name": "OutputModel",
            "_view_count": null,
            "_view_module": "@jupyter-widgets/output",
            "_view_module_version": "1.0.0",
            "_view_name": "OutputView",
            "layout": "IPY_MODEL_70955afb7d654eebbe31b651ffa4f943",
            "msg_id": "",
            "outputs": []
          }
        },
        "29587fc1e4e34f5880fd306a74ebd0a6": {
          "model_module": "@jupyter-widgets/base",
          "model_name": "LayoutModel",
          "model_module_version": "1.2.0",
          "state": {
            "_model_module": "@jupyter-widgets/base",
            "_model_module_version": "1.2.0",
            "_model_name": "LayoutModel",
            "_view_count": null,
            "_view_module": "@jupyter-widgets/base",
            "_view_module_version": "1.2.0",
            "_view_name": "LayoutView",
            "align_content": null,
            "align_items": null,
            "align_self": null,
            "border": null,
            "bottom": null,
            "display": null,
            "flex": null,
            "flex_flow": null,
            "grid_area": null,
            "grid_auto_columns": null,
            "grid_auto_flow": null,
            "grid_auto_rows": null,
            "grid_column": null,
            "grid_gap": null,
            "grid_row": null,
            "grid_template_areas": null,
            "grid_template_columns": null,
            "grid_template_rows": null,
            "height": null,
            "justify_content": null,
            "justify_items": null,
            "left": null,
            "margin": null,
            "max_height": null,
            "max_width": null,
            "min_height": null,
            "min_width": null,
            "object_fit": null,
            "object_position": null,
            "order": null,
            "overflow": null,
            "overflow_x": null,
            "overflow_y": null,
            "padding": null,
            "right": null,
            "top": null,
            "visibility": null,
            "width": null
          }
        },
        "ea29ebfce22a4f65b35519977f087ac9": {
          "model_module": "@jupyter-widgets/base",
          "model_name": "LayoutModel",
          "model_module_version": "1.2.0",
          "state": {
            "_model_module": "@jupyter-widgets/base",
            "_model_module_version": "1.2.0",
            "_model_name": "LayoutModel",
            "_view_count": null,
            "_view_module": "@jupyter-widgets/base",
            "_view_module_version": "1.2.0",
            "_view_name": "LayoutView",
            "align_content": null,
            "align_items": null,
            "align_self": null,
            "border": null,
            "bottom": null,
            "display": null,
            "flex": null,
            "flex_flow": null,
            "grid_area": null,
            "grid_auto_columns": null,
            "grid_auto_flow": null,
            "grid_auto_rows": null,
            "grid_column": null,
            "grid_gap": null,
            "grid_row": null,
            "grid_template_areas": null,
            "grid_template_columns": null,
            "grid_template_rows": null,
            "height": null,
            "justify_content": null,
            "justify_items": null,
            "left": null,
            "margin": null,
            "max_height": null,
            "max_width": null,
            "min_height": null,
            "min_width": null,
            "object_fit": null,
            "object_position": null,
            "order": null,
            "overflow": null,
            "overflow_x": null,
            "overflow_y": null,
            "padding": null,
            "right": null,
            "top": null,
            "visibility": null,
            "width": null
          }
        },
        "d16eede2dadf423ca7ad555b16c988b9": {
          "model_module": "@jupyter-widgets/controls",
          "model_name": "DescriptionStyleModel",
          "model_module_version": "1.5.0",
          "state": {
            "_model_module": "@jupyter-widgets/controls",
            "_model_module_version": "1.5.0",
            "_model_name": "DescriptionStyleModel",
            "_view_count": null,
            "_view_module": "@jupyter-widgets/base",
            "_view_module_version": "1.2.0",
            "_view_name": "StyleView",
            "description_width": ""
          }
        },
        "202f75c72bee4ef39ca9abe8111e8c82": {
          "model_module": "@jupyter-widgets/base",
          "model_name": "LayoutModel",
          "model_module_version": "1.2.0",
          "state": {
            "_model_module": "@jupyter-widgets/base",
            "_model_module_version": "1.2.0",
            "_model_name": "LayoutModel",
            "_view_count": null,
            "_view_module": "@jupyter-widgets/base",
            "_view_module_version": "1.2.0",
            "_view_name": "LayoutView",
            "align_content": null,
            "align_items": null,
            "align_self": null,
            "border": null,
            "bottom": null,
            "display": null,
            "flex": null,
            "flex_flow": null,
            "grid_area": null,
            "grid_auto_columns": null,
            "grid_auto_flow": null,
            "grid_auto_rows": null,
            "grid_column": null,
            "grid_gap": null,
            "grid_row": null,
            "grid_template_areas": null,
            "grid_template_columns": null,
            "grid_template_rows": null,
            "height": null,
            "justify_content": null,
            "justify_items": null,
            "left": null,
            "margin": null,
            "max_height": null,
            "max_width": null,
            "min_height": null,
            "min_width": null,
            "object_fit": null,
            "object_position": null,
            "order": null,
            "overflow": null,
            "overflow_x": null,
            "overflow_y": null,
            "padding": null,
            "right": null,
            "top": null,
            "visibility": null,
            "width": null
          }
        },
        "d4362980031c4d7590c88bbfa766d007": {
          "model_module": "@jupyter-widgets/controls",
          "model_name": "ButtonStyleModel",
          "model_module_version": "1.5.0",
          "state": {
            "_model_module": "@jupyter-widgets/controls",
            "_model_module_version": "1.5.0",
            "_model_name": "ButtonStyleModel",
            "_view_count": null,
            "_view_module": "@jupyter-widgets/base",
            "_view_module_version": "1.2.0",
            "_view_name": "StyleView",
            "button_color": null,
            "font_weight": ""
          }
        },
        "70955afb7d654eebbe31b651ffa4f943": {
          "model_module": "@jupyter-widgets/base",
          "model_name": "LayoutModel",
          "model_module_version": "1.2.0",
          "state": {
            "_model_module": "@jupyter-widgets/base",
            "_model_module_version": "1.2.0",
            "_model_name": "LayoutModel",
            "_view_count": null,
            "_view_module": "@jupyter-widgets/base",
            "_view_module_version": "1.2.0",
            "_view_name": "LayoutView",
            "align_content": null,
            "align_items": null,
            "align_self": null,
            "border": null,
            "bottom": null,
            "display": null,
            "flex": null,
            "flex_flow": null,
            "grid_area": null,
            "grid_auto_columns": null,
            "grid_auto_flow": null,
            "grid_auto_rows": null,
            "grid_column": null,
            "grid_gap": null,
            "grid_row": null,
            "grid_template_areas": null,
            "grid_template_columns": null,
            "grid_template_rows": null,
            "height": null,
            "justify_content": null,
            "justify_items": null,
            "left": null,
            "margin": null,
            "max_height": null,
            "max_width": null,
            "min_height": null,
            "min_width": null,
            "object_fit": null,
            "object_position": null,
            "order": null,
            "overflow": null,
            "overflow_x": null,
            "overflow_y": null,
            "padding": null,
            "right": null,
            "top": null,
            "visibility": null,
            "width": null
          }
        }
      }
    }
  },
  "cells": [
    {
      "cell_type": "markdown",
      "metadata": {
        "id": "view-in-github",
        "colab_type": "text"
      },
      "source": [
        "<a href=\"https://colab.research.google.com/github/davidparede/i2a2autonometa/blob/main/Projeto_I2a2_Autonometa_final.ipynb\" target=\"_parent\"><img src=\"https://colab.research.google.com/assets/colab-badge.svg\" alt=\"Open In Colab\"/></a>"
      ]
    },
    {
      "cell_type": "markdown",
      "source": [
        "# AutonoMeta - Ferramenta de análise automática de documentos fiscais\n",
        "\n",
        "\n",
        "\n",
        "\n",
        "Trabalho realizado para o curso de IA do I2A2 - grupo AutonoMeta, com o objetivo de permitir a análise de dados fiscais de forma fácil e otimizada, atráves do uso de linguagem natural. Todo projeto foi criado usando tecnologia open source e usando parametros de clean code. Os códigos foram desenvolvidos em python, usou-se autogen como framework e o  colab como IDE.\n",
        "\n"
      ],
      "metadata": {
        "id": "_BfS-CCX75Z5"
      }
    },
    {
      "cell_type": "markdown",
      "source": [
        "# Etapa 1: Instalação de Dependências e Importações"
      ],
      "metadata": {
        "id": "SA4NL20H19zV"
      }
    },
    {
      "cell_type": "code",
      "execution_count": 1,
      "metadata": {
        "id": "bq4B9w-CBpet",
        "colab": {
          "base_uri": "https://localhost:8080/"
        },
        "outputId": "9c8571a5-ec6f-42e3-cb0c-5d058cb28139",
        "collapsed": true
      },
      "outputs": [
        {
          "output_type": "stream",
          "name": "stdout",
          "text": [
            "Collecting autogen\n",
            "  Downloading autogen-0.9.3-py3-none-any.whl.metadata (24 kB)\n",
            "Collecting ag2==0.9.3 (from autogen)\n",
            "  Downloading ag2-0.9.3-py3-none-any.whl.metadata (35 kB)\n",
            "Requirement already satisfied: anyio<5.0.0,>=3.0.0 in /usr/local/lib/python3.11/dist-packages (from ag2==0.9.3->autogen) (4.9.0)\n",
            "Collecting asyncer==0.0.8 (from ag2==0.9.3->autogen)\n",
            "  Downloading asyncer-0.0.8-py3-none-any.whl.metadata (6.7 kB)\n",
            "Collecting diskcache (from ag2==0.9.3->autogen)\n",
            "  Downloading diskcache-5.6.3-py3-none-any.whl.metadata (20 kB)\n",
            "Collecting docker (from ag2==0.9.3->autogen)\n",
            "  Downloading docker-7.1.0-py3-none-any.whl.metadata (3.8 kB)\n",
            "Requirement already satisfied: httpx<1,>=0.28.1 in /usr/local/lib/python3.11/dist-packages (from ag2==0.9.3->autogen) (0.28.1)\n",
            "Requirement already satisfied: packaging in /usr/local/lib/python3.11/dist-packages (from ag2==0.9.3->autogen) (24.2)\n",
            "Requirement already satisfied: pydantic<3,>=2.6.1 in /usr/local/lib/python3.11/dist-packages (from ag2==0.9.3->autogen) (2.11.7)\n",
            "Collecting python-dotenv (from ag2==0.9.3->autogen)\n",
            "  Downloading python_dotenv-1.1.1-py3-none-any.whl.metadata (24 kB)\n",
            "Requirement already satisfied: termcolor in /usr/local/lib/python3.11/dist-packages (from ag2==0.9.3->autogen) (3.1.0)\n",
            "Requirement already satisfied: tiktoken in /usr/local/lib/python3.11/dist-packages (from ag2==0.9.3->autogen) (0.9.0)\n",
            "Requirement already satisfied: idna>=2.8 in /usr/local/lib/python3.11/dist-packages (from anyio<5.0.0,>=3.0.0->ag2==0.9.3->autogen) (3.10)\n",
            "Requirement already satisfied: sniffio>=1.1 in /usr/local/lib/python3.11/dist-packages (from anyio<5.0.0,>=3.0.0->ag2==0.9.3->autogen) (1.3.1)\n",
            "Requirement already satisfied: typing_extensions>=4.5 in /usr/local/lib/python3.11/dist-packages (from anyio<5.0.0,>=3.0.0->ag2==0.9.3->autogen) (4.14.0)\n",
            "Requirement already satisfied: certifi in /usr/local/lib/python3.11/dist-packages (from httpx<1,>=0.28.1->ag2==0.9.3->autogen) (2025.6.15)\n",
            "Requirement already satisfied: httpcore==1.* in /usr/local/lib/python3.11/dist-packages (from httpx<1,>=0.28.1->ag2==0.9.3->autogen) (1.0.9)\n",
            "Requirement already satisfied: h11>=0.16 in /usr/local/lib/python3.11/dist-packages (from httpcore==1.*->httpx<1,>=0.28.1->ag2==0.9.3->autogen) (0.16.0)\n",
            "Requirement already satisfied: annotated-types>=0.6.0 in /usr/local/lib/python3.11/dist-packages (from pydantic<3,>=2.6.1->ag2==0.9.3->autogen) (0.7.0)\n",
            "Requirement already satisfied: pydantic-core==2.33.2 in /usr/local/lib/python3.11/dist-packages (from pydantic<3,>=2.6.1->ag2==0.9.3->autogen) (2.33.2)\n",
            "Requirement already satisfied: typing-inspection>=0.4.0 in /usr/local/lib/python3.11/dist-packages (from pydantic<3,>=2.6.1->ag2==0.9.3->autogen) (0.4.1)\n",
            "Requirement already satisfied: requests>=2.26.0 in /usr/local/lib/python3.11/dist-packages (from docker->ag2==0.9.3->autogen) (2.32.3)\n",
            "Requirement already satisfied: urllib3>=1.26.0 in /usr/local/lib/python3.11/dist-packages (from docker->ag2==0.9.3->autogen) (2.4.0)\n",
            "Requirement already satisfied: regex>=2022.1.18 in /usr/local/lib/python3.11/dist-packages (from tiktoken->ag2==0.9.3->autogen) (2024.11.6)\n",
            "Requirement already satisfied: charset-normalizer<4,>=2 in /usr/local/lib/python3.11/dist-packages (from requests>=2.26.0->docker->ag2==0.9.3->autogen) (3.4.2)\n",
            "Downloading autogen-0.9.3-py3-none-any.whl (13 kB)\n",
            "Downloading ag2-0.9.3-py3-none-any.whl (826 kB)\n",
            "\u001b[2K   \u001b[90m━━━━━━━━━━━━━━━━━━━━━━━━━━━━━━━━━━━━━━━━\u001b[0m \u001b[32m826.8/826.8 kB\u001b[0m \u001b[31m21.0 MB/s\u001b[0m eta \u001b[36m0:00:00\u001b[0m\n",
            "\u001b[?25hDownloading asyncer-0.0.8-py3-none-any.whl (9.2 kB)\n",
            "Downloading diskcache-5.6.3-py3-none-any.whl (45 kB)\n",
            "\u001b[2K   \u001b[90m━━━━━━━━━━━━━━━━━━━━━━━━━━━━━━━━━━━━━━━━\u001b[0m \u001b[32m45.5/45.5 kB\u001b[0m \u001b[31m3.3 MB/s\u001b[0m eta \u001b[36m0:00:00\u001b[0m\n",
            "\u001b[?25hDownloading docker-7.1.0-py3-none-any.whl (147 kB)\n",
            "\u001b[2K   \u001b[90m━━━━━━━━━━━━━━━━━━━━━━━━━━━━━━━━━━━━━━━━\u001b[0m \u001b[32m147.8/147.8 kB\u001b[0m \u001b[31m10.8 MB/s\u001b[0m eta \u001b[36m0:00:00\u001b[0m\n",
            "\u001b[?25hDownloading python_dotenv-1.1.1-py3-none-any.whl (20 kB)\n",
            "Installing collected packages: python-dotenv, diskcache, docker, asyncer, ag2, autogen\n",
            "Successfully installed ag2-0.9.3 asyncer-0.0.8 autogen-0.9.3 diskcache-5.6.3 docker-7.1.0 python-dotenv-1.1.1\n"
          ]
        }
      ],
      "source": [
        "%pip install autogen"
      ]
    },
    {
      "cell_type": "markdown",
      "source": [
        "# Etapa 2: Importações e Configuração Inicial"
      ],
      "metadata": {
        "id": "95vnoRj58m6L"
      }
    },
    {
      "cell_type": "code",
      "source": [
        "import os\n",
        "import zipfile\n",
        "import requests\n",
        "import pandas as pd\n",
        "from autogen import AssistantAgent, UserProxyAgent\n",
        "from IPython.display import display, Markdown\n",
        "import ipywidgets as widgets\n",
        "from google.colab import userdata # Para gerenciar segredos no colab"
      ],
      "metadata": {
        "id": "QFav7YK1B5p5"
      },
      "execution_count": 2,
      "outputs": []
    },
    {
      "cell_type": "markdown",
      "source": [
        "# ---  CONFIGURAÇÃO ---\n",
        "É uma boa prática de desenvolvimento definir constantes no início para fácil manutenção, seguindo parametros de microsserviço."
      ],
      "metadata": {
        "id": "1FYIQcHk9OyQ"
      }
    },
    {
      "cell_type": "code",
      "source": [
        "# Configurar variáveis de ambiente\n",
        "ENDPOINT_API = \"https://generativelanguage.googleapis.com/v1bet\""
      ],
      "metadata": {
        "id": "CYKXiwAU118u"
      },
      "execution_count": 3,
      "outputs": []
    },
    {
      "cell_type": "markdown",
      "source": [
        "# --- SEGURANÇA ---\n",
        "Para fins de segurança, a chave de API foi criptografada"
      ],
      "metadata": {
        "id": "OCPDQGFw9zDh"
      }
    },
    {
      "cell_type": "code",
      "source": [
        "os.environ[\"GOOGLE_API_KEY\"] = userdata.get(\"GOOGLE_API_KEY\")"
      ],
      "metadata": {
        "id": "KgPpHkh390qU"
      },
      "execution_count": 4,
      "outputs": []
    },
    {
      "cell_type": "markdown",
      "source": [
        "# Etapa 3: Preparação dos Dados"
      ],
      "metadata": {
        "id": "P4iHdU8a-gka"
      }
    },
    {
      "cell_type": "code",
      "source": [
        "import pandas as pd\n",
        "import os\n",
        "\n",
        "# Definição do diretório onde os arquivos CSV estão localizados\n",
        "\n",
        "# Nomes dos arquivos CSV\n",
        "ARQUIVO_CABECALHO = '/content/202401_NFs_Cabecalho.csv'\n",
        "ARQUIVO_ITENS = '/content/202401_NFs_Itens.csv'\n",
        "\n",
        "def carregar_dados(diretorio, arquivo):\n",
        "    \"\"\"\n",
        "    Carrega um arquivo CSV em um DataFrame pandas.\n",
        "\n",
        "    Args:\n",
        "        diretorio (str): O diretório onde o arquivo está localizado.\n",
        "        arquivo (str): O nome do arquivo CSV.\n",
        "\n",
        "    Returns:\n",
        "        pd.DataFrame: O DataFrame carregado.\n",
        "    \"\"\"\n",
        "    caminho_completo = os.path.join(diretorio, arquivo)\n",
        "    try:\n",
        "        df = pd.read_csv(caminho_completo)\n",
        "        return df\n",
        "    except FileNotFoundError:\n",
        "        print(f\"Erro: O arquivo {arquivo} não foi encontrado no diretório {diretorio}.\")\n",
        "        return None\n"
      ],
      "metadata": {
        "id": "2MrHORCH-jJS"
      },
      "execution_count": 5,
      "outputs": []
    },
    {
      "cell_type": "markdown",
      "source": [
        "# Etapa 4: Configuração do Agente AutoGen\n",
        "\n"
      ],
      "metadata": {
        "id": "d3KcwwFk2XZj"
      }
    },
    {
      "cell_type": "code",
      "source": [
        "# Load the dataframes before using them in the CONTEXTO_SISTEMA\n",
        "# Assuming the files are in the /content/ directory as specified in the previous cell\n",
        "cabecalho_df = carregar_dados('/content', '202401_NFs_Cabecalho.csv')\n",
        "itens_df = carregar_dados('/content', '202401_NFs_Itens.csv')\n",
        "\n",
        "\n",
        "#O contexto (schema dos dados) é passado na mensagem de sistema para o agente \"nascer\" inteligente.\n",
        "\n",
        "CONTEXTO_SISTEMA = f\"\"\"\n",
        "Você é um analista de dados especialista em notas fiscais, preciso e direto.\n",
        "Sua tarefa é responder às perguntas do usuário usando os DataFrames do Pandas fornecidos.\n",
        "Os DataFrames disponíveis são `cabecalho_df` e `itens_df`.\n",
        "\n",
        "Schema do `cabecalho_df`: {list(cabecalho_df.columns) if cabecalho_df is not None else \"DataFrame not loaded\"}\n",
        "Schema do `itens_df`: {list(itens_df.columns) if itens_df is not None else \"DataFrame not loaded\"}\n",
        "\n",
        "Para responder, você deve:\n",
        "1.  Analisar a pergunta do usuário.\n",
        "2.  Gerar e executar o código Python necessário para encontrar a resposta.\n",
        "3.  Apresentar a resposta final em linguagem natural, de forma clara e objetiva.\n",
        "4.  Não mostre o código Python na sua resposta final, apenas o resultado.\n",
        "\"\"\"\n",
        "\n",
        "# Configuração do LLM (sem alterações, mas agora usa a chave de forma segura)\n",
        "llm_config = {\n",
        "    \"config_list\": [{\n",
        "        \"model\": 'gemini-2.5-pro',\n",
        "        \"base_url\": ENDPOINT_API,\n",
        "        \"api_key\": 'GOOGLE_API_KEY',\n",
        "        \"api_type\": \"google\",\n",
        "        \"api_version\": \"v1beta\",\n",
        "    }],\n",
        "    \"cache_seed\": None # Desativa o cache para garantir novas respostas\n",
        "}\n",
        "\n",
        "# Criação do agente assistente com o contexto aprimorado\n",
        "assistant = AssistantAgent(\n",
        "    name=\"Analista_Fiscal\",\n",
        "    system_message=CONTEXTO_SISTEMA,\n",
        "    llm_config=llm_config\n",
        ")\n",
        "\n",
        "# Criação do agente proxy do usuário\n",
        "user_proxy = UserProxyAgent(\n",
        "    name=\"Usuario_Proxy\",\n",
        "    human_input_mode=\"NEVER\", # O agente nunca pedirá intervenção humana\n",
        "    max_consecutive_auto_reply=2, # Limita o número de respostas automáticas para evitar loops\n",
        "    is_termination_msg=lambda x: \"TERMINATE\" in x.get(\"content\", \"\").rstrip(),\n",
        "    code_execution_config={\"work_dir\": \"analise\", \"use_docker\": False}\n",
        ")"
      ],
      "metadata": {
        "id": "U9DnWeKV2d8V",
        "colab": {
          "base_uri": "https://localhost:8080/"
        },
        "outputId": "f5e68ba9-b296-4823-ca7d-382b0b048e91"
      },
      "execution_count": 8,
      "outputs": [
        {
          "output_type": "stream",
          "name": "stdout",
          "text": [
            "Erro: O arquivo 202401_NFs_Cabecalho.csv não foi encontrado no diretório /content.\n",
            "Erro: O arquivo 202401_NFs_Itens.csv não foi encontrado no diretório /content.\n"
          ]
        }
      ]
    },
    {
      "cell_type": "markdown",
      "source": [
        "# Etapa 5: Interface do Usuário Interativa"
      ],
      "metadata": {
        "id": "kX4TJ0b0Af2f"
      }
    },
    {
      "cell_type": "code",
      "source": [
        "# Widgets para interface\n",
        "pergunta_input = widgets.Text(placeholder=\"Digite sua pergunta...\")\n",
        "botao_enviar = widgets.Button(description=\"Enviar\")\n",
        "saida = widgets.Output()\n",
        "\n",
        "def on_button_click(b):\n",
        "    with saida:\n",
        "        saida.clear_output()\n",
        "        pergunta = pergunta_input.value\n",
        "        print(f\"Processando: {pergunta}\")\n",
        "\n",
        "        # Iniciar chat com formatação controlada\n",
        "        user_proxy.initiate_chat(\n",
        "            assistant,\n",
        "            message=f\"\"\"\n",
        "            Dados disponíveis:\n",
        "            - Cabeçalho (cabecalho_df): {list(cabecalho_df.columns)} | Exemplo: {cabecalho_df.iloc[0].to_dict()}\n",
        "            - Itens (itens_df): {list(itens_df.columns)} | Exemplo: {itens_df.iloc[0].to_dict()}\n",
        "\n",
        "            Pergunta do usuário: {pergunta}\n",
        "\n",
        "            Instruções:\n",
        "            1. Analise os dataframes relevantes\n",
        "            2. Execute e retorne apenas\n",
        "               - Resposta principal\n",
        "               - Método utilizado\n",
        "               - Valores numéricos destacados\n",
        "            3. Focando apenas na resposta em linguagem natural\n",
        "            \"\"\"\n",
        "        )\n",
        "\n",
        "        # Capturar e formatar última resposta\n",
        "        ultima_resposta = assistant.last_message()['content']\n",
        "\n",
        "        # Filtragem de conteúdo\n",
        "        partes_relevantes = [\n",
        "            linha for linha in ultima_resposta.split('\\n')\n",
        "            if not linha.startswith('```')\n",
        "        ]\n",
        "\n",
        "        # Exibir formatado\n",
        "        display(Markdown(f\"\"\"\n",
        "        **📝 Resposta:**\n",
        "        {''.join(partes_relevantes[1:-1]) if len(partes_relevantes) > 2 else ''.join(partes_relevantes)}\n",
        "\n",
        "        _ℹ️ Dados processados em {pd.Timestamp.now().strftime('%d/%m %H:%M')}_\n",
        "        \"\"\"))\n",
        "\n",
        "botao_enviar.on_click(on_button_click)\n",
        "display(widgets.VBox([pergunta_input, botao_enviar, saida]))"
      ],
      "metadata": {
        "id": "tk335IJ_Qhf7",
        "colab": {
          "base_uri": "https://localhost:8080/",
          "height": 81,
          "referenced_widgets": [
            "875f76f3cf6e45ef96a200f72c2e541a",
            "5bded59c9ee24f25b805661ecf5f280d",
            "95c876b9d128487a868d1a8d2c8a4338",
            "e4c8e9b9a2c247cd82e79e124037006f",
            "29587fc1e4e34f5880fd306a74ebd0a6",
            "ea29ebfce22a4f65b35519977f087ac9",
            "d16eede2dadf423ca7ad555b16c988b9",
            "202f75c72bee4ef39ca9abe8111e8c82",
            "d4362980031c4d7590c88bbfa766d007",
            "70955afb7d654eebbe31b651ffa4f943"
          ]
        },
        "outputId": "b625154a-11a5-4289-8c4a-f83937ae258f"
      },
      "execution_count": 9,
      "outputs": [
        {
          "output_type": "display_data",
          "data": {
            "text/plain": [
              "VBox(children=(Text(value='', placeholder='Digite sua pergunta...'), Button(description='Enviar', style=Button…"
            ],
            "application/vnd.jupyter.widget-view+json": {
              "version_major": 2,
              "version_minor": 0,
              "model_id": "875f76f3cf6e45ef96a200f72c2e541a"
            }
          },
          "metadata": {}
        }
      ]
    }
  ]
}